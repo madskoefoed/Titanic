{
 "cells": [
  {
   "cell_type": "markdown",
   "metadata": {},
   "source": [
    "## Titanic\n",
    "### Analysis and modeling of the Titanic dataset\n",
    "This Jupyter notebook analysis and models the famous Titanic dataset using Polar and logistic regression.\n",
    "\n",
    "This is *not* an attempt to find the best predictive model."
   ]
  },
  {
   "cell_type": "markdown",
   "metadata": {},
   "source": [
    "#### Import packages"
   ]
  },
  {
   "cell_type": "code",
   "execution_count": 140,
   "metadata": {},
   "outputs": [],
   "source": [
    "import os\n",
    "import numpy as np\n",
    "import polars as pl\n",
    "#import matplotlib as plt\n",
    "import random\n",
    "from sklearn.preprocessing import OneHotEncoder\n",
    "from sklearn.linear_model import LogisticRegression\n",
    "from sklearn.metrics import confusion_matrix, precision_score, recall_score, log_loss"
   ]
  },
  {
   "cell_type": "markdown",
   "metadata": {},
   "source": [
    "#### List files and folders"
   ]
  },
  {
   "cell_type": "code",
   "execution_count": 14,
   "metadata": {},
   "outputs": [
    {
     "data": {
      "text/plain": [
       "['.git', '.gitignore', 'README.md', 'titanic.csv', 'titanic.ipynb', 'venv']"
      ]
     },
     "execution_count": 14,
     "metadata": {},
     "output_type": "execute_result"
    }
   ],
   "source": [
    "os.listdir()"
   ]
  },
  {
   "cell_type": "markdown",
   "metadata": {},
   "source": [
    "#### Load dataset"
   ]
  },
  {
   "cell_type": "code",
   "execution_count": 70,
   "metadata": {},
   "outputs": [
    {
     "data": {
      "text/html": [
       "<div><style>\n",
       ".dataframe > thead > tr,\n",
       ".dataframe > tbody > tr {\n",
       "  text-align: right;\n",
       "  white-space: pre-wrap;\n",
       "}\n",
       "</style>\n",
       "<small>shape: (3, 12)</small><table border=\"1\" class=\"dataframe\"><thead><tr><th>PassengerId</th><th>Survived</th><th>Pclass</th><th>Name</th><th>Sex</th><th>Age</th><th>SibSp</th><th>Parch</th><th>Ticket</th><th>Fare</th><th>Cabin</th><th>Embarked</th></tr><tr><td>i64</td><td>i64</td><td>i64</td><td>str</td><td>str</td><td>f64</td><td>i64</td><td>i64</td><td>str</td><td>f64</td><td>str</td><td>str</td></tr></thead><tbody><tr><td>1</td><td>0</td><td>3</td><td>&quot;Braund, Mr. Owen Harris&quot;</td><td>&quot;male&quot;</td><td>22.0</td><td>1</td><td>0</td><td>&quot;A/5 21171&quot;</td><td>7.25</td><td>null</td><td>&quot;S&quot;</td></tr><tr><td>2</td><td>1</td><td>1</td><td>&quot;Cumings, Mrs. John Bradley (Fl…</td><td>&quot;female&quot;</td><td>38.0</td><td>1</td><td>0</td><td>&quot;PC 17599&quot;</td><td>71.2833</td><td>&quot;C85&quot;</td><td>&quot;C&quot;</td></tr><tr><td>3</td><td>1</td><td>3</td><td>&quot;Heikkinen, Miss. Laina&quot;</td><td>&quot;female&quot;</td><td>26.0</td><td>0</td><td>0</td><td>&quot;STON/O2. 3101282&quot;</td><td>7.925</td><td>null</td><td>&quot;S&quot;</td></tr></tbody></table></div>"
      ],
      "text/plain": [
       "shape: (3, 12)\n",
       "┌─────────────┬──────────┬────────┬───────────────────┬───┬───────────┬─────────┬───────┬──────────┐\n",
       "│ PassengerId ┆ Survived ┆ Pclass ┆ Name              ┆ … ┆ Ticket    ┆ Fare    ┆ Cabin ┆ Embarked │\n",
       "│ ---         ┆ ---      ┆ ---    ┆ ---               ┆   ┆ ---       ┆ ---     ┆ ---   ┆ ---      │\n",
       "│ i64         ┆ i64      ┆ i64    ┆ str               ┆   ┆ str       ┆ f64     ┆ str   ┆ str      │\n",
       "╞═════════════╪══════════╪════════╪═══════════════════╪═══╪═══════════╪═════════╪═══════╪══════════╡\n",
       "│ 1           ┆ 0        ┆ 3      ┆ Braund, Mr. Owen  ┆ … ┆ A/5 21171 ┆ 7.25    ┆ null  ┆ S        │\n",
       "│             ┆          ┆        ┆ Harris            ┆   ┆           ┆         ┆       ┆          │\n",
       "│ 2           ┆ 1        ┆ 1      ┆ Cumings, Mrs.     ┆ … ┆ PC 17599  ┆ 71.2833 ┆ C85   ┆ C        │\n",
       "│             ┆          ┆        ┆ John Bradley (Fl… ┆   ┆           ┆         ┆       ┆          │\n",
       "│ 3           ┆ 1        ┆ 3      ┆ Heikkinen, Miss.  ┆ … ┆ STON/O2.  ┆ 7.925   ┆ null  ┆ S        │\n",
       "│             ┆          ┆        ┆ Laina             ┆   ┆ 3101282   ┆         ┆       ┆          │\n",
       "└─────────────┴──────────┴────────┴───────────────────┴───┴───────────┴─────────┴───────┴──────────┘"
      ]
     },
     "execution_count": 70,
     "metadata": {},
     "output_type": "execute_result"
    }
   ],
   "source": [
    "df = pl.read_csv(\"titanic.csv\", separator=\",\")\n",
    "\n",
    "nrows, ncols = df.shape\n",
    "\n",
    "df.head(3)"
   ]
  },
  {
   "cell_type": "markdown",
   "metadata": {},
   "source": [
    "#### Have a look at the columns"
   ]
  },
  {
   "cell_type": "code",
   "execution_count": 113,
   "metadata": {},
   "outputs": [
    {
     "data": {
      "text/html": [
       "<div><style>\n",
       ".dataframe > thead > tr,\n",
       ".dataframe > tbody > tr {\n",
       "  text-align: right;\n",
       "  white-space: pre-wrap;\n",
       "}\n",
       "</style>\n",
       "<small>shape: (9, 18)</small><table border=\"1\" class=\"dataframe\"><thead><tr><th>statistic</th><th>PassengerId</th><th>Survived</th><th>Pclass</th><th>Name</th><th>Sex</th><th>Age</th><th>SibSp</th><th>Parch</th><th>Ticket</th><th>Fare</th><th>Cabin</th><th>Embarked</th><th>Sex_female</th><th>Sex_male</th><th>Pclass_1</th><th>Pclass_2</th><th>Pclass_3</th></tr><tr><td>str</td><td>f64</td><td>f64</td><td>str</td><td>str</td><td>str</td><td>f64</td><td>f64</td><td>f64</td><td>str</td><td>f64</td><td>str</td><td>str</td><td>f64</td><td>f64</td><td>f64</td><td>f64</td><td>f64</td></tr></thead><tbody><tr><td>&quot;count&quot;</td><td>891.0</td><td>891.0</td><td>&quot;891&quot;</td><td>&quot;891&quot;</td><td>&quot;891&quot;</td><td>714.0</td><td>891.0</td><td>891.0</td><td>&quot;891&quot;</td><td>891.0</td><td>&quot;204&quot;</td><td>&quot;889&quot;</td><td>891.0</td><td>891.0</td><td>891.0</td><td>891.0</td><td>891.0</td></tr><tr><td>&quot;null_count&quot;</td><td>0.0</td><td>0.0</td><td>&quot;0&quot;</td><td>&quot;0&quot;</td><td>&quot;0&quot;</td><td>177.0</td><td>0.0</td><td>0.0</td><td>&quot;0&quot;</td><td>0.0</td><td>&quot;687&quot;</td><td>&quot;2&quot;</td><td>0.0</td><td>0.0</td><td>0.0</td><td>0.0</td><td>0.0</td></tr><tr><td>&quot;mean&quot;</td><td>446.0</td><td>0.383838</td><td>null</td><td>null</td><td>null</td><td>29.699118</td><td>0.523008</td><td>0.381594</td><td>null</td><td>32.204208</td><td>null</td><td>null</td><td>0.352413</td><td>0.647587</td><td>0.242424</td><td>0.20651</td><td>0.551066</td></tr><tr><td>&quot;std&quot;</td><td>257.353842</td><td>0.486592</td><td>null</td><td>null</td><td>null</td><td>14.526497</td><td>1.102743</td><td>0.806057</td><td>null</td><td>49.693429</td><td>null</td><td>null</td><td>0.47799</td><td>0.47799</td><td>0.42879</td><td>0.405028</td><td>0.497665</td></tr><tr><td>&quot;min&quot;</td><td>1.0</td><td>0.0</td><td>null</td><td>&quot;Abbing, Mr. Anthony&quot;</td><td>null</td><td>0.42</td><td>0.0</td><td>0.0</td><td>&quot;110152&quot;</td><td>0.0</td><td>&quot;A10&quot;</td><td>&quot;C&quot;</td><td>0.0</td><td>0.0</td><td>0.0</td><td>0.0</td><td>0.0</td></tr><tr><td>&quot;25%&quot;</td><td>224.0</td><td>0.0</td><td>null</td><td>null</td><td>null</td><td>20.0</td><td>0.0</td><td>0.0</td><td>null</td><td>7.925</td><td>null</td><td>null</td><td>0.0</td><td>0.0</td><td>0.0</td><td>0.0</td><td>0.0</td></tr><tr><td>&quot;50%&quot;</td><td>446.0</td><td>0.0</td><td>null</td><td>null</td><td>null</td><td>28.0</td><td>0.0</td><td>0.0</td><td>null</td><td>14.4542</td><td>null</td><td>null</td><td>0.0</td><td>1.0</td><td>0.0</td><td>0.0</td><td>1.0</td></tr><tr><td>&quot;75%&quot;</td><td>669.0</td><td>1.0</td><td>null</td><td>null</td><td>null</td><td>38.0</td><td>1.0</td><td>0.0</td><td>null</td><td>31.0</td><td>null</td><td>null</td><td>1.0</td><td>1.0</td><td>0.0</td><td>0.0</td><td>1.0</td></tr><tr><td>&quot;max&quot;</td><td>891.0</td><td>1.0</td><td>null</td><td>&quot;van Melkebeke, Mr. Philemon&quot;</td><td>null</td><td>80.0</td><td>8.0</td><td>6.0</td><td>&quot;WE/P 5735&quot;</td><td>512.3292</td><td>&quot;T&quot;</td><td>&quot;S&quot;</td><td>1.0</td><td>1.0</td><td>1.0</td><td>1.0</td><td>1.0</td></tr></tbody></table></div>"
      ],
      "text/plain": [
       "shape: (9, 18)\n",
       "┌────────────┬─────────────┬──────────┬────────┬───┬──────────┬──────────┬──────────┬──────────┐\n",
       "│ statistic  ┆ PassengerId ┆ Survived ┆ Pclass ┆ … ┆ Sex_male ┆ Pclass_1 ┆ Pclass_2 ┆ Pclass_3 │\n",
       "│ ---        ┆ ---         ┆ ---      ┆ ---    ┆   ┆ ---      ┆ ---      ┆ ---      ┆ ---      │\n",
       "│ str        ┆ f64         ┆ f64      ┆ str    ┆   ┆ f64      ┆ f64      ┆ f64      ┆ f64      │\n",
       "╞════════════╪═════════════╪══════════╪════════╪═══╪══════════╪══════════╪══════════╪══════════╡\n",
       "│ count      ┆ 891.0       ┆ 891.0    ┆ 891    ┆ … ┆ 891.0    ┆ 891.0    ┆ 891.0    ┆ 891.0    │\n",
       "│ null_count ┆ 0.0         ┆ 0.0      ┆ 0      ┆ … ┆ 0.0      ┆ 0.0      ┆ 0.0      ┆ 0.0      │\n",
       "│ mean       ┆ 446.0       ┆ 0.383838 ┆ null   ┆ … ┆ 0.647587 ┆ 0.242424 ┆ 0.20651  ┆ 0.551066 │\n",
       "│ std        ┆ 257.353842  ┆ 0.486592 ┆ null   ┆ … ┆ 0.47799  ┆ 0.42879  ┆ 0.405028 ┆ 0.497665 │\n",
       "│ min        ┆ 1.0         ┆ 0.0      ┆ null   ┆ … ┆ 0.0      ┆ 0.0      ┆ 0.0      ┆ 0.0      │\n",
       "│ 25%        ┆ 224.0       ┆ 0.0      ┆ null   ┆ … ┆ 0.0      ┆ 0.0      ┆ 0.0      ┆ 0.0      │\n",
       "│ 50%        ┆ 446.0       ┆ 0.0      ┆ null   ┆ … ┆ 1.0      ┆ 0.0      ┆ 0.0      ┆ 1.0      │\n",
       "│ 75%        ┆ 669.0       ┆ 1.0      ┆ null   ┆ … ┆ 1.0      ┆ 0.0      ┆ 0.0      ┆ 1.0      │\n",
       "│ max        ┆ 891.0       ┆ 1.0      ┆ null   ┆ … ┆ 1.0      ┆ 1.0      ┆ 1.0      ┆ 1.0      │\n",
       "└────────────┴─────────────┴──────────┴────────┴───┴──────────┴──────────┴──────────┴──────────┘"
      ]
     },
     "execution_count": 113,
     "metadata": {},
     "output_type": "execute_result"
    }
   ],
   "source": [
    "df.describe()"
   ]
  },
  {
   "cell_type": "markdown",
   "metadata": {},
   "source": [
    "#### Change variables"
   ]
  },
  {
   "cell_type": "code",
   "execution_count": 121,
   "metadata": {},
   "outputs": [
    {
     "data": {
      "text/html": [
       "<div><style>\n",
       ".dataframe > thead > tr,\n",
       ".dataframe > tbody > tr {\n",
       "  text-align: right;\n",
       "  white-space: pre-wrap;\n",
       "}\n",
       "</style>\n",
       "<small>shape: (3, 18)</small><table border=\"1\" class=\"dataframe\"><thead><tr><th>PassengerId</th><th>Survived</th><th>Pclass</th><th>Name</th><th>Sex</th><th>Age</th><th>SibSp</th><th>Parch</th><th>Ticket</th><th>Fare</th><th>Cabin</th><th>Embarked</th><th>Sex_female</th><th>Sex_male</th><th>Pclass_1</th><th>Pclass_2</th><th>Pclass_3</th><th>Age_miss</th></tr><tr><td>i64</td><td>i64</td><td>cat</td><td>str</td><td>cat</td><td>f64</td><td>i64</td><td>i64</td><td>str</td><td>f64</td><td>str</td><td>str</td><td>f64</td><td>f64</td><td>f64</td><td>f64</td><td>f64</td><td>i64</td></tr></thead><tbody><tr><td>1</td><td>0</td><td>&quot;3&quot;</td><td>&quot;Braund, Mr. Owen Harris&quot;</td><td>&quot;male&quot;</td><td>22.0</td><td>1</td><td>0</td><td>&quot;A/5 21171&quot;</td><td>7.25</td><td>null</td><td>&quot;S&quot;</td><td>0.0</td><td>1.0</td><td>0.0</td><td>0.0</td><td>1.0</td><td>0</td></tr><tr><td>2</td><td>1</td><td>&quot;1&quot;</td><td>&quot;Cumings, Mrs. John Bradley (Fl…</td><td>&quot;female&quot;</td><td>38.0</td><td>1</td><td>0</td><td>&quot;PC 17599&quot;</td><td>71.2833</td><td>&quot;C85&quot;</td><td>&quot;C&quot;</td><td>1.0</td><td>0.0</td><td>1.0</td><td>0.0</td><td>0.0</td><td>0</td></tr><tr><td>3</td><td>1</td><td>&quot;3&quot;</td><td>&quot;Heikkinen, Miss. Laina&quot;</td><td>&quot;female&quot;</td><td>26.0</td><td>0</td><td>0</td><td>&quot;STON/O2. 3101282&quot;</td><td>7.925</td><td>null</td><td>&quot;S&quot;</td><td>1.0</td><td>0.0</td><td>0.0</td><td>0.0</td><td>1.0</td><td>0</td></tr></tbody></table></div>"
      ],
      "text/plain": [
       "shape: (3, 18)\n",
       "┌─────────────┬──────────┬────────┬────────────────┬───┬──────────┬──────────┬──────────┬──────────┐\n",
       "│ PassengerId ┆ Survived ┆ Pclass ┆ Name           ┆ … ┆ Pclass_1 ┆ Pclass_2 ┆ Pclass_3 ┆ Age_miss │\n",
       "│ ---         ┆ ---      ┆ ---    ┆ ---            ┆   ┆ ---      ┆ ---      ┆ ---      ┆ ---      │\n",
       "│ i64         ┆ i64      ┆ cat    ┆ str            ┆   ┆ f64      ┆ f64      ┆ f64      ┆ i64      │\n",
       "╞═════════════╪══════════╪════════╪════════════════╪═══╪══════════╪══════════╪══════════╪══════════╡\n",
       "│ 1           ┆ 0        ┆ 3      ┆ Braund, Mr.    ┆ … ┆ 0.0      ┆ 0.0      ┆ 1.0      ┆ 0        │\n",
       "│             ┆          ┆        ┆ Owen Harris    ┆   ┆          ┆          ┆          ┆          │\n",
       "│ 2           ┆ 1        ┆ 1      ┆ Cumings, Mrs.  ┆ … ┆ 1.0      ┆ 0.0      ┆ 0.0      ┆ 0        │\n",
       "│             ┆          ┆        ┆ John Bradley   ┆   ┆          ┆          ┆          ┆          │\n",
       "│             ┆          ┆        ┆ (Fl…           ┆   ┆          ┆          ┆          ┆          │\n",
       "│ 3           ┆ 1        ┆ 3      ┆ Heikkinen,     ┆ … ┆ 0.0      ┆ 0.0      ┆ 1.0      ┆ 0        │\n",
       "│             ┆          ┆        ┆ Miss. Laina    ┆   ┆          ┆          ┆          ┆          │\n",
       "└─────────────┴──────────┴────────┴────────────────┴───┴──────────┴──────────┴──────────┴──────────┘"
      ]
     },
     "execution_count": 121,
     "metadata": {},
     "output_type": "execute_result"
    }
   ],
   "source": [
    "df = df.with_columns(pl.col(\"Pclass\").cast(pl.String).cast(pl.Categorical),\n",
    "                     pl.col(\"Sex\").cast(pl.Categorical))\n",
    "\n",
    "# Add a column indicating when Age is missing\n",
    "df = df.with_columns(pl.col(\"Age\").fill_null(0))\n",
    "df = df.with_columns(Age_miss = pl.lit(np.where(df['Age'] == 0, 1, 0)))\n",
    "\n",
    "df.head(3)"
   ]
  },
  {
   "cell_type": "markdown",
   "metadata": {},
   "source": [
    "####"
   ]
  },
  {
   "cell_type": "markdown",
   "metadata": {},
   "source": [
    "#### Divide dataset into training and test set\n",
    "You should only train your model _once_, otherwise you need a third dataset."
   ]
  },
  {
   "cell_type": "code",
   "execution_count": 90,
   "metadata": {},
   "outputs": [
    {
     "name": "stdout",
     "output_type": "stream",
     "text": [
      "Total rows: 891 \n",
      "Training rows: 712 \n",
      "Test rows: 179\n"
     ]
    }
   ],
   "source": [
    "random.seed(123)\n",
    "train_pct = 0.8\n",
    "train_nrows = np.floor(train_pct * nrows).astype(int)\n",
    "train_nrows\n",
    "train_rows = sorted(random.sample(range(nrows), train_nrows))\n",
    "test_rows  = sorted(list(set(range(nrows)) - set(train_rows)))\n",
    "\n",
    "print(\"Total rows:\", nrows, \"\\nTraining rows:\", len(train_rows), \"\\nTest rows:\", len(test_rows))"
   ]
  },
  {
   "cell_type": "markdown",
   "metadata": {},
   "source": [
    "#### Encode variables"
   ]
  },
  {
   "cell_type": "code",
   "execution_count": 110,
   "metadata": {},
   "outputs": [
    {
     "data": {
      "text/html": [
       "<div><style>\n",
       ".dataframe > thead > tr,\n",
       ".dataframe > tbody > tr {\n",
       "  text-align: right;\n",
       "  white-space: pre-wrap;\n",
       "}\n",
       "</style>\n",
       "<small>shape: (3, 17)</small><table border=\"1\" class=\"dataframe\"><thead><tr><th>PassengerId</th><th>Survived</th><th>Pclass</th><th>Name</th><th>Sex</th><th>Age</th><th>SibSp</th><th>Parch</th><th>Ticket</th><th>Fare</th><th>Cabin</th><th>Embarked</th><th>Sex_female</th><th>Sex_male</th><th>Pclass_1</th><th>Pclass_2</th><th>Pclass_3</th></tr><tr><td>i64</td><td>i64</td><td>cat</td><td>str</td><td>cat</td><td>f64</td><td>i64</td><td>i64</td><td>str</td><td>f64</td><td>str</td><td>str</td><td>f64</td><td>f64</td><td>f64</td><td>f64</td><td>f64</td></tr></thead><tbody><tr><td>1</td><td>0</td><td>&quot;3&quot;</td><td>&quot;Braund, Mr. Owen Harris&quot;</td><td>&quot;male&quot;</td><td>22.0</td><td>1</td><td>0</td><td>&quot;A/5 21171&quot;</td><td>7.25</td><td>null</td><td>&quot;S&quot;</td><td>0.0</td><td>1.0</td><td>0.0</td><td>0.0</td><td>1.0</td></tr><tr><td>2</td><td>1</td><td>&quot;1&quot;</td><td>&quot;Cumings, Mrs. John Bradley (Fl…</td><td>&quot;female&quot;</td><td>38.0</td><td>1</td><td>0</td><td>&quot;PC 17599&quot;</td><td>71.2833</td><td>&quot;C85&quot;</td><td>&quot;C&quot;</td><td>1.0</td><td>0.0</td><td>1.0</td><td>0.0</td><td>0.0</td></tr><tr><td>3</td><td>1</td><td>&quot;3&quot;</td><td>&quot;Heikkinen, Miss. Laina&quot;</td><td>&quot;female&quot;</td><td>26.0</td><td>0</td><td>0</td><td>&quot;STON/O2. 3101282&quot;</td><td>7.925</td><td>null</td><td>&quot;S&quot;</td><td>1.0</td><td>0.0</td><td>0.0</td><td>0.0</td><td>1.0</td></tr></tbody></table></div>"
      ],
      "text/plain": [
       "shape: (3, 17)\n",
       "┌─────────────┬──────────┬────────┬────────────────┬───┬──────────┬──────────┬──────────┬──────────┐\n",
       "│ PassengerId ┆ Survived ┆ Pclass ┆ Name           ┆ … ┆ Sex_male ┆ Pclass_1 ┆ Pclass_2 ┆ Pclass_3 │\n",
       "│ ---         ┆ ---      ┆ ---    ┆ ---            ┆   ┆ ---      ┆ ---      ┆ ---      ┆ ---      │\n",
       "│ i64         ┆ i64      ┆ cat    ┆ str            ┆   ┆ f64      ┆ f64      ┆ f64      ┆ f64      │\n",
       "╞═════════════╪══════════╪════════╪════════════════╪═══╪══════════╪══════════╪══════════╪══════════╡\n",
       "│ 1           ┆ 0        ┆ 3      ┆ Braund, Mr.    ┆ … ┆ 1.0      ┆ 0.0      ┆ 0.0      ┆ 1.0      │\n",
       "│             ┆          ┆        ┆ Owen Harris    ┆   ┆          ┆          ┆          ┆          │\n",
       "│ 2           ┆ 1        ┆ 1      ┆ Cumings, Mrs.  ┆ … ┆ 0.0      ┆ 1.0      ┆ 0.0      ┆ 0.0      │\n",
       "│             ┆          ┆        ┆ John Bradley   ┆   ┆          ┆          ┆          ┆          │\n",
       "│             ┆          ┆        ┆ (Fl…           ┆   ┆          ┆          ┆          ┆          │\n",
       "│ 3           ┆ 1        ┆ 3      ┆ Heikkinen,     ┆ … ┆ 0.0      ┆ 0.0      ┆ 0.0      ┆ 1.0      │\n",
       "│             ┆          ┆        ┆ Miss. Laina    ┆   ┆          ┆          ┆          ┆          │\n",
       "└─────────────┴──────────┴────────┴────────────────┴───┴──────────┴──────────┴──────────┴──────────┘"
      ]
     },
     "execution_count": 110,
     "metadata": {},
     "output_type": "execute_result"
    }
   ],
   "source": [
    "encoder = OneHotEncoder(sparse_output=False).set_output(transform=\"polars\")\n",
    "\n",
    "df_enc = encoder.fit_transform(df[['Sex', 'Pclass']])\n",
    "\n",
    "df_enc.head(3)\n",
    "\n",
    "df = pl.concat([df, df_enc], how=\"horizontal\")\n",
    "\n",
    "df.head(3)"
   ]
  },
  {
   "cell_type": "markdown",
   "metadata": {},
   "source": [
    "#### Fit a logistic regression\n",
    "Setup:\n",
    "* Use the training dataset\n",
    "* Use the variables: Pclass, Sex, Age.\n",
    "* Don't use a penalty term"
   ]
  },
  {
   "cell_type": "code",
   "execution_count": 143,
   "metadata": {},
   "outputs": [],
   "source": [
    "x_cols = ['Pclass_1', 'Pclass_2', 'Pclass_3',\n",
    "          'Sex_male', 'Sex_female',\n",
    "          'Age', 'Age_miss']\n",
    "x_train = df[train_rows, :].select(x_cols).to_numpy()\n",
    "\n",
    "y_train = df[train_rows, :].select(\"Survived\").to_numpy().ravel()\n",
    "\n",
    "model = LogisticRegression(penalty=None).fit(x_train, y_train)\n",
    "y_fitted = model.predict(x_train)\n",
    "y_prob   = model.predict_proba(x_train)"
   ]
  },
  {
   "cell_type": "markdown",
   "metadata": {},
   "source": [
    "#### Training evaluation"
   ]
  },
  {
   "cell_type": "code",
   "execution_count": 146,
   "metadata": {},
   "outputs": [
    {
     "data": {
      "text/plain": [
       "np.float64(0.6818181818181818)"
      ]
     },
     "execution_count": 146,
     "metadata": {},
     "output_type": "execute_result"
    }
   ],
   "source": [
    "#y_fitted = np.where(probs >= df['Survived'].mean(), 1, 0)\n",
    "confusion_matrix(y_train, y_fitted)\n",
    "log_loss(y_train, y_prob)\n",
    "precision_score(y_train, y_fitted)\n",
    "recall_score(y_train, y_fitted)"
   ]
  }
 ],
 "metadata": {
  "kernelspec": {
   "display_name": "venv",
   "language": "python",
   "name": "python3"
  },
  "language_info": {
   "codemirror_mode": {
    "name": "ipython",
    "version": 3
   },
   "file_extension": ".py",
   "mimetype": "text/x-python",
   "name": "python",
   "nbconvert_exporter": "python",
   "pygments_lexer": "ipython3",
   "version": "3.12.4"
  }
 },
 "nbformat": 4,
 "nbformat_minor": 2
}
